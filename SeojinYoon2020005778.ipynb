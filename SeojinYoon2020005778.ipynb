{
  "nbformat": 4,
  "nbformat_minor": 0,
  "metadata": {
    "colab": {
      "name": "SeojinYoon2020005778.ipynb",
      "provenance": [],
      "collapsed_sections": []
    },
    "kernelspec": {
      "name": "python3",
      "display_name": "Python 3"
    }
  },
  "cells": [
    {
      "cell_type": "markdown",
      "metadata": {
        "id": "6wQqQJ3GbBLo",
        "colab_type": "text"
      },
      "source": [
        "#**This is for your Final Examination of both courses titled \"AI Basics\" and \" Python I\"**#\n",
        "\n",
        "All the results (incuding the codes, your written answers, and running outcomes) should be held in the same notebook. \n",
        "\n",
        "The Name of the notebook should be your name followed by your student ID (e.g., HokyoungBlakeRyu2020890653.ipynb)\n",
        "\n",
        "##*You should submit the notebook file in your GitHub, by the due date (no later than 23rd May, 12:00pm).*##\n",
        "\n",
        "**Evaluation points:** \n",
        "\n",
        "\n",
        "1.   Quality - How much your codes are working in general circumstances (Don't do any single hot coding) \n",
        "2.   Quality - Least use the built-in functions, wherever necessary (if you want to some built-in functions (e.g., inverse function of matrix), you need to make the two versions to compare them). You will use the build-in functions in your life time, so this examination is a last change to improve your programming skills.   \n",
        "3. Quality - The logic of programming would be significantly evaluated. Don't forget computational thinking. Your thinking process and that of computers are different.  \n",
        "4. The number of coding lines are nothing important, netiher whether you  find the correct answer or not. The main point of this examination, how much you think to solve the questions at your own efforts (I can see it when I have read your codes), so simply C&P from the internet sources would automatically fail to mark (However, you can refer to the internet sources but you need to fully absorb them in your understanding before you submit). \n",
        "\n"
      ]
    },
    {
      "cell_type": "markdown",
      "metadata": {
        "id": "NsXGV32B6yHX",
        "colab_type": "text"
      },
      "source": [
        "\n",
        "\n",
        "---\n",
        "\n"
      ]
    },
    {
      "cell_type": "markdown",
      "metadata": {
        "id": "UydSbgHwcBts",
        "colab_type": "text"
      },
      "source": [
        "Functions are often visualized as a line or (curvature) on a graph, and this line shows how the value returned by the function changes based on changes in the input value. For example, imagine a function that returns the number of meters travelled by a cyclist based on the number of seconds that the cyclist has been cycling.\n",
        "\n",
        "Here is such a function: \n",
        "\n",
        "\\begin{equation}q(x) = 2x^{2} + 1\\end{equation} \n",
        "\n",
        "\n",
        "#1. Plot the output for this function *q(x)* for a period of 10 seconds from range (0 sec to 10 secs)# "
      ]
    },
    {
      "cell_type": "markdown",
      "metadata": {
        "id": "mbAaNszqrWa4",
        "colab_type": "text"
      },
      "source": [
        "\n",
        "\n",
        "---\n",
        "\n"
      ]
    },
    {
      "cell_type": "code",
      "metadata": {
        "id": "k_cKAtE8dvO_",
        "colab_type": "code",
        "outputId": "12a607d4-cda4-44f7-9000-d5f15459569a",
        "colab": {
          "base_uri": "https://localhost:8080/",
          "height": 279
        }
      },
      "source": [
        "%matplotlib inline \n",
        "import matplotlib.pyplot as plt\n",
        "import pandas as pd\n",
        "import numpy as np\n",
        "from sympy import *\n",
        "\n",
        "def q(x):\n",
        "    return 2*x**2+1 \n",
        "\n",
        "x = list(range(0,51)) \n",
        "for i in range(len(x)): #그래프를 더 부드럽게 그리기 위해 사용(np.arange(0,50.2,0.2))\n",
        "  x[i] = x[i]/5\n",
        "y = [q(i) for i in x]\n",
        "\n",
        "plt.plot(x,y,color = \"blue\")\n",
        "plt.xlabel('time(s)')\n",
        "plt.ylabel('distance(m)')\n",
        "plt.show()"
      ],
      "execution_count": 0,
      "outputs": [
        {
          "output_type": "display_data",
          "data": {
            "image/png": "[encoded data removed]",
            "text/plain": [
              "<Figure size 432x288 with 1 Axes>"
            ]
          },
          "metadata": {
            "tags": [],
            "needs_background": "light"
          }
        }
      ]
    },
    {
      "cell_type": "markdown",
      "metadata": {
        "id": "O6HeizdLej-N",
        "colab_type": "text"
      },
      "source": [
        "\n",
        "\n",
        "---\n",
        "\n"
      ]
    },
    {
      "cell_type": "markdown",
      "metadata": {
        "id": "ZsDAys8Jd02o",
        "colab_type": "text"
      },
      "source": [
        "Velocity is a measure of change - it measures how the distance travelled changes over time. So we're looking for a way to measure the change in the line created by the function. \n",
        "\n",
        "#2. Calculate the velocity (2-1) between 1 sec to 2 secs, and (2-2) 5 secs and 7 secs. "
      ]
    },
    {
      "cell_type": "markdown",
      "metadata": {
        "id": "QasyFe1ErZI8",
        "colab_type": "text"
      },
      "source": [
        "\n",
        "\n",
        "---\n",
        "\n"
      ]
    },
    {
      "cell_type": "code",
      "metadata": {
        "id": "p4pHDwLIehZL",
        "colab_type": "code",
        "outputId": "db847cb8-b94e-4638-951d-9356923916a9",
        "colab": {
          "base_uri": "https://localhost:8080/",
          "height": 523
        }
      },
      "source": [
        "%matplotlib inline \n",
        "\n",
        "def rate_of_change(f,x,h):\n",
        "  return (f(x+h)-f(x))/h\n",
        "\n",
        "def simple_diff(f,x):\n",
        "  return rate_of_change(f,x,1e-4)\n",
        "\n",
        "def ave_v(f,x1,x2):\n",
        "  return (f(x2)-f(x1))/(x2-x1)\n",
        "\n",
        "df = pd.DataFrame({'time':range(10,21)})/10 #문제가 좀 애매한 것 같아서 interval 내 속도도 구함\n",
        "df['velocity'] = simple_diff(q,df['time'])\n",
        "print(df)\n",
        "\n",
        "plt.plot(df.time,df.velocity,color = \"blue\")\n",
        "plt.xlabel('time(s)')\n",
        "plt.ylabel('velocity(m/s)')\n",
        "plt.show()\n",
        "\n",
        "print('='*50)\n",
        "print(\"average velocity: \"+str(ave_v(q,1,2))+\"m/s\") #평균 속도"
      ],
      "execution_count": 0,
      "outputs": [
        {
          "output_type": "stream",
          "text": [
            "    time  velocity\n",
            "0    1.0    4.0002\n",
            "1    1.1    4.4002\n",
            "2    1.2    4.8002\n",
            "3    1.3    5.2002\n",
            "4    1.4    5.6002\n",
            "5    1.5    6.0002\n",
            "6    1.6    6.4002\n",
            "7    1.7    6.8002\n",
            "8    1.8    7.2002\n",
            "9    1.9    7.6002\n",
            "10   2.0    8.0002\n"
          ],
          "name": "stdout"
        },
        {
          "output_type": "display_data",
          "data": {
            "image/png": "[encoded data removed]",
            "text/plain": [
              "<Figure size 432x288 with 1 Axes>"
            ]
          },
          "metadata": {
            "tags": [],
            "needs_background": "light"
          }
        },
        {
          "output_type": "stream",
          "text": [
            "==================================================\n",
            "average velocity: 6.0m/s\n"
          ],
          "name": "stdout"
        }
      ]
    },
    {
      "cell_type": "markdown",
      "metadata": {
        "id": "nmQklhoKrcDa",
        "colab_type": "text"
      },
      "source": [
        "6m/s\n",
        "\n",
        "---\n",
        "\n"
      ]
    },
    {
      "cell_type": "code",
      "metadata": {
        "id": "xlnZFgBuerDD",
        "colab_type": "code",
        "outputId": "35527b0e-ee8e-4134-bafb-a2a8ba1a85d0",
        "colab": {
          "base_uri": "https://localhost:8080/",
          "height": 698
        }
      },
      "source": [
        "%matplotlib inline \n",
        "\n",
        "df = pd.DataFrame({'time':range(50,71)})/10 \n",
        "df['velocity'] = simple_diff(q,df['time'])\n",
        "print(df)\n",
        "\n",
        "plt.plot(df.time,df.velocity,color = \"blue\") \n",
        "plt.xlabel('time(s)')\n",
        "plt.ylabel('velocity(m/s)')\n",
        "plt.show()\n",
        "\n",
        "print('='*50)\n",
        "print(\"average velocity: \",str(ave_v(q,5,7))+\"m/s\") "
      ],
      "execution_count": 0,
      "outputs": [
        {
          "output_type": "stream",
          "text": [
            "    time  velocity\n",
            "0    5.0   20.0002\n",
            "1    5.1   20.4002\n",
            "2    5.2   20.8002\n",
            "3    5.3   21.2002\n",
            "4    5.4   21.6002\n",
            "5    5.5   22.0002\n",
            "6    5.6   22.4002\n",
            "7    5.7   22.8002\n",
            "8    5.8   23.2002\n",
            "9    5.9   23.6002\n",
            "10   6.0   24.0002\n",
            "11   6.1   24.4002\n",
            "12   6.2   24.8002\n",
            "13   6.3   25.2002\n",
            "14   6.4   25.6002\n",
            "15   6.5   26.0002\n",
            "16   6.6   26.4002\n",
            "17   6.7   26.8002\n",
            "18   6.8   27.2002\n",
            "19   6.9   27.6002\n",
            "20   7.0   28.0002\n"
          ],
          "name": "stdout"
        },
        {
          "output_type": "display_data",
          "data": {
            "image/png": "[encoded data removed]",
            "text/plain": [
              "<Figure size 432x288 with 1 Axes>"
            ]
          },
          "metadata": {
            "tags": [],
            "needs_background": "light"
          }
        },
        {
          "output_type": "stream",
          "text": [
            "==================================================\n",
            "average velocity:  24.0m/s\n"
          ],
          "name": "stdout"
        }
      ]
    },
    {
      "cell_type": "markdown",
      "metadata": {
        "id": "vtiHo6pZet7a",
        "colab_type": "text"
      },
      "source": [
        "24m/s\n",
        "\n",
        "---\n",
        "\n"
      ]
    },
    {
      "cell_type": "markdown",
      "metadata": {
        "id": "AAdbeVTPdtyl",
        "colab_type": "text"
      },
      "source": [
        "In differentiation, we need to use our knowledge of limits to calculate the derivative of a function in order to determine the rate of change at an individual point on a line. Here is our function: \n",
        "\n",
        "\\begin{equation}q(x) = 2x^{2} + 1\\end{equation} \n"
      ]
    },
    {
      "cell_type": "code",
      "metadata": {
        "id": "nvRtRl9Lf4Cx",
        "colab_type": "code",
        "colab": {}
      },
      "source": [
        "#running the following code \n",
        "\n",
        "%matplotlib inline\n",
        "\n",
        "# Here's the function\n",
        "def f(x):\n",
        "    return 2*x**2 + 1 "
      ],
      "execution_count": 0,
      "outputs": []
    },
    {
      "cell_type": "markdown",
      "metadata": {
        "id": "SDspFCiPf_GK",
        "colab_type": "text"
      },
      "source": [
        "The average rate of change for the interval between x=4 and x=6 is **20**. "
      ]
    },
    {
      "cell_type": "markdown",
      "metadata": {
        "id": "6Dn9UXe_hyWX",
        "colab_type": "text"
      },
      "source": [
        "If the interval is decreasing the average rate of change would be also changed. \n",
        "\n",
        "#3. Write a Python program to calculate the average rate of change for the interval between x and x+h (where h gets smaller and smaller), with regard to how the average rate of change would be close to the derivative of q(x) "
      ]
    },
    {
      "cell_type": "markdown",
      "metadata": {
        "id": "LQ8CmJ0-rjOQ",
        "colab_type": "text"
      },
      "source": [
        "\n",
        "\n",
        "---\n",
        "\n"
      ]
    },
    {
      "cell_type": "code",
      "metadata": {
        "id": "nceK4FS1f9CP",
        "colab_type": "code",
        "outputId": "52082a8e-b6a1-4749-b25b-069ea85c325e",
        "colab": {
          "base_uri": "https://localhost:8080/",
          "height": 350
        }
      },
      "source": [
        "k = float(input(\"x:\")) #x값 대입\n",
        "print('='*50)\n",
        "print(\"average rate of change between x and x+h:\")\n",
        "h = 1 \n",
        "for i in range(10):\n",
        "  print(ave_v(f,k,k+h)) #h가 점점 줄어들 때 average rate of change\n",
        "  h /= 10\n",
        "\n",
        "x,a,h = symbols('x a h')\n",
        "\n",
        "print('='*50)\n",
        "print(\"derivative:\")\n",
        "print(diff(f(x),x).subs(x,k))\n",
        "\n",
        "print('='*50)\n",
        "print(\"limit f(a):\",Limit((f(x).subs(x,a+h)-f(x).subs(x,a))/h,h,0).doit()) #doit()은 결과값을 더 간단한 값으로 바꾸어 주는 걸로 알고 있음\n",
        "print(\"f'(a):\",diff(f(a),a))"
      ],
      "execution_count": 0,
      "outputs": [
        {
          "output_type": "stream",
          "text": [
            "x:1\n",
            "==================================================\n",
            "average rate of change between x and x+h:\n",
            "6.0\n",
            "4.2\n",
            "4.019999999999998\n",
            "4.0019999999998355\n",
            "4.0001999999987845\n",
            "4.000020000001655\n",
            "4.000002000177801\n",
            "4.000000199840144\n",
            "4.0\n",
            "4.0\n",
            "==================================================\n",
            "derivative:\n",
            "4.00000000000000\n",
            "==================================================\n",
            "limit f(a): 4*a\n",
            "f'(a): 4*a\n"
          ],
          "name": "stdout"
        }
      ]
    },
    {
      "cell_type": "markdown",
      "metadata": {
        "id": "XZ7zDc2NiwYd",
        "colab_type": "text"
      },
      "source": [
        "\n",
        "\n",
        "---\n",
        "\n"
      ]
    },
    {
      "cell_type": "markdown",
      "metadata": {
        "id": "lWkh3UVFiyE4",
        "colab_type": "text"
      },
      "source": [
        "The *chain rule* takes advantage of the fact that equations can be encapsulated as functions, and since functions contain equations, it's possible to nest one function within another.\n",
        "\n",
        "For example, consider the following function:\n",
        "\n",
        "\\begin{equation}u(x) = 2x^{2} \\end{equation}\n",
        "\n",
        "We could view the definition of *u(x)* as a composite of two functions,; an *inner* function that calculates x<sup>2</sup>, and an *outer* function that multiplies the result of the inner function by 2.\n",
        "\n",
        "\\begin{equation}u(x) = \\widehat{\\color{blue}2\\color{blue}(\\underline{\\color{red}x^{\\color{red}2}}\\color{blue})} \\end{equation}\n",
        "\n",
        "To make things simpler, we can name these inner and outer functions:\n",
        "\n",
        "\\begin{equation}i(x) = x^{2} \\end{equation}\n",
        "\n",
        "\\begin{equation}o(x) = 2x \\end{equation}\n",
        "\n",
        "Note that *x* indicates the input for each function. Function *i* takes its input and squares it, and function *o* takes its input and multiplies it by 2. When we use these as a composite function, the *x* value input into the outer function will be the output from the inner function.\n",
        "\n",
        "Let's take a look at how we can apply these functions to get back to our original *u* function:\n",
        "\n",
        "\\begin{equation}u(x) = o(i(x)) \\end{equation}\n",
        "\n",
        "So first we need to find the output of the inner *i* function so we can use at as the input value for the outer *o* function. Well, that's easy, we know the definition of *i* (square the input), so we can just plug it in:\n",
        "\n",
        "\\begin{equation}u(x) = o(x^{2}) \\end{equation}\n",
        "\n",
        "We also know the definition for the outer *o* function (multiply the input by 2), so we can just apply that to the input:\n",
        "\n",
        "\\begin{equation}u(x) = 2x^{2} \\end{equation}\n",
        "\n",
        "OK, so now we know how to form a composite function. The *chain rule* can be stated like this:\n",
        "\n",
        "\\begin{equation}\\frac{d}{dx}[o(i(x))] = o'(i(x)) \\cdot i'(x)\\end{equation}\n",
        "\n",
        "Alright, let's start by plugging the output of the inner *i(x)* function in:\n",
        "\n",
        "\\begin{equation}\\frac{d}{dx}[o(i(x))] = o'(x^{2}) \\cdot i'(x)\\end{equation}\n",
        "\n",
        "Which when we cancel out the 2x<sup>2</sup> and -2x<sup>2</sup>,is:\n",
        "\n",
        "\\begin{equation}o'(x) = \\lim_{h \\to 0} \\frac{2h}{h} \\end{equation}\n",
        "\n",
        "Which simplifies to:\n",
        "\n",
        "\\begin{equation}o'(x) = 2 \\end{equation}\n",
        "\\begin{equation}i'(x) = 2x \\end{equation}\n",
        "\n",
        "So our equation at this point is:\n",
        "\n",
        "\\begin{equation}\\frac{d}{dx}[o(i(x))] = 2 \\cdot 2x\\end{equation}\n",
        "\n",
        "In this case, we can take our equation:\n",
        "\n",
        "\\begin{equation}\\frac{d}{dx}[o(i(x))] = o'(i(x)) \\cdot i'(x)\\end{equation}\n",
        "\n",
        "and rewrite it as \n",
        "\n",
        "\\begin{equation}\\frac{du}{dx} = \\frac{do}{di}\\frac{di}{dx}\\end{equation}\n",
        "\n",
        "We can then complete the calculations like this:\n",
        "\n",
        "\\begin{equation}\\frac{du}{dx} = 2 \\cdot 2x = 4x\\end{equation}\n",
        "\n",
        "Execute the following code: "
      ]
    },
    {
      "cell_type": "code",
      "metadata": {
        "id": "r3MnqOC4mA23",
        "colab_type": "code",
        "colab": {}
      },
      "source": [
        "#running the following code \n",
        "\n",
        "%matplotlib inline\n",
        "\n",
        "# Here's the function\n",
        "def g(x):\n",
        "    return 2*x**(-2) - x "
      ],
      "execution_count": 0,
      "outputs": []
    },
    {
      "cell_type": "markdown",
      "metadata": {
        "id": "SDO_UJPij9dE",
        "colab_type": "text"
      },
      "source": [
        "#4. Write a Python program to \n",
        "\n",
        "\\begin{equation}\\frac{d}{dx}[f(g(x))] \\end{equation}, and \n",
        "\n",
        "\\begin{equation}\\frac{d}{dx}[g(f(x))] \\end{equation}, resepectively.  \n"
      ]
    },
    {
      "cell_type": "markdown",
      "metadata": {
        "id": "b6RR2w_bn2Pa",
        "colab_type": "text"
      },
      "source": [
        "\n",
        "\n",
        "---\n",
        "\n"
      ]
    },
    {
      "cell_type": "code",
      "metadata": {
        "id": "iBI6MI6OrOZc",
        "colab_type": "code",
        "outputId": "f49cac18-7848-45ce-d09e-f8ee40a34be3",
        "colab": {
          "base_uri": "https://localhost:8080/",
          "height": 140
        }
      },
      "source": [
        "print(\"results using diff() function\")\n",
        "print(\"[f(g(x))]':\",simplify(diff(f(g(x)),x))) #x는 위에서 symbol로 정의됨\n",
        "print(\"[g(f(x))]':\",simplify(diff(g(f(x)),x)))\n",
        "print(\"=\"*50)\n",
        "print(\"results using chain rule\")\n",
        "print(\"[f(g(x))]':\",simplify(diff(f(x),x).subs(x,g(x))*diff(g(x),x)))\n",
        "print(\"[g(f(x))]':\",simplify(diff(g(x),x).subs(x,f(x))*diff(f(x),x)))"
      ],
      "execution_count": 0,
      "outputs": [
        {
          "output_type": "stream",
          "text": [
            "results using diff() function\n",
            "[f(g(x))]': 4*x + 8/x**2 - 32/x**5\n",
            "[g(f(x))]': -4*x - 16*x/(2*x**2 + 1)**3\n",
            "==================================================\n",
            "results using chain rule\n",
            "[f(g(x))]': 4*x + 8/x**2 - 32/x**5\n",
            "[g(f(x))]': -4*x - 16*x/(2*x**2 + 1)**3\n"
          ],
          "name": "stdout"
        }
      ]
    },
    {
      "cell_type": "markdown",
      "metadata": {
        "id": "bs6xv54g93h-",
        "colab_type": "text"
      },
      "source": [
        "In here you might add up your written accounts as to why the two results are different. "
      ]
    },
    {
      "cell_type": "markdown",
      "metadata": {
        "id": "RAadu-NN9_qN",
        "colab_type": "text"
      },
      "source": [
        "The results are different because f(g(x)) and g(f(x)) are different functions. (It is trivial that f(g(x)) and g(f(x)) are different functions.)"
      ]
    },
    {
      "cell_type": "markdown",
      "metadata": {
        "id": "7ZBeidKvrR-1",
        "colab_type": "text"
      },
      "source": [
        "\n",
        "\n",
        "---\n",
        "\n"
      ]
    },
    {
      "cell_type": "markdown",
      "metadata": {
        "id": "_sHoK3S0ooTA",
        "colab_type": "text"
      },
      "source": [
        "Now consider the following function, which represents the number of flowers growing in a flower bed before and after the spraying of a fertilizer:\n",
        "\n",
        "\\begin{equation}w(x) = x^{2} + 2x + 7 \\end{equation}"
      ]
    },
    {
      "cell_type": "markdown",
      "metadata": {
        "id": "PvcJinmMpGGj",
        "colab_type": "text"
      },
      "source": [
        "Execute the following code "
      ]
    },
    {
      "cell_type": "code",
      "metadata": {
        "id": "Ortb5cx8pJwT",
        "colab_type": "code",
        "outputId": "01737c9a-5cfd-48c7-8c96-527cef3471fa",
        "colab": {
          "base_uri": "https://localhost:8080/",
          "height": 278
        }
      },
      "source": [
        "%matplotlib inline\n",
        "\n",
        "# Create function w\n",
        "def w(x):\n",
        "    return (x**2) + (2*x) + 7\n",
        "\n",
        "def wd(x):\n",
        "    return 2*x + 2\n",
        "\n",
        "from matplotlib import pyplot as plt\n",
        "\n",
        "# Create an array of x values to plot\n",
        "x = list(range(-10, 11))\n",
        "\n",
        "# Use the function to get the y values\n",
        "y = [w(i) for i in x]\n",
        "\n",
        "# Use the derivative function to get the derivative values\n",
        "yd = [wd(i) for i in x]\n",
        "\n",
        "# Set up the graph\n",
        "plt.xlabel('x (time in days)')\n",
        "plt.ylabel('w(x) (flowers)')\n",
        "plt.xticks(range(-10,15, 1))\n",
        "plt.yticks(range(-200, 500, 20))\n",
        "plt.grid()\n",
        "\n",
        "# Plot the function\n",
        "plt.plot(x,y, color='green')\n",
        "\n",
        "# Plot the derivative\n",
        "plt.plot(x,yd, color='purple')\n",
        "\n",
        "plt.show()"
      ],
      "execution_count": 0,
      "outputs": [
        {
          "output_type": "display_data",
          "data": {
            "image/png": "[encoded data removed]",
            "text/plain": [
              "<Figure size 432x288 with 1 Axes>"
            ]
          },
          "metadata": {
            "tags": [],
            "needs_background": "light"
          }
        }
      ]
    },
    {
      "cell_type": "markdown",
      "metadata": {
        "id": "Z2s6SurnpNVZ",
        "colab_type": "text"
      },
      "source": [
        "The green line represents the function, showing the number of flowers for 10 days before and after the fertilizer treatment. Before treatment, the number of flowers was in decline, and after treatment the flower bed started to recover.\n",
        "\n",
        "The derivative function is shown in purple, and once again shows a linear change in slope. This time, the slope is increasing at a constant rate; and once again, the derivative function line crosses 0 at the lowest point in the function line (in other words, the slope changed from negative to positive when the flowers started to recover)."
      ]
    },
    {
      "cell_type": "markdown",
      "metadata": {
        "id": "P6ZaqSwYpVgK",
        "colab_type": "text"
      },
      "source": [
        "From what we've solved so far, it seems that there is a relationship between a function reaching an extreme value (a maximum or a minimum), and a derivative value of 0. This makes intuitive sense; the derivative represents the slope of the line, so when a function changes from a negative slope to a positive slope, or vice-versa, the derivative must pass through 0."
      ]
    },
    {
      "cell_type": "markdown",
      "metadata": {
        "id": "Vc1px3cfpkPw",
        "colab_type": "text"
      },
      "source": [
        "#5. Write a Python code to display that simply a derivative value equals to 0 does not guarantee the minimum or maximum of the function.  \n",
        "for example,  \\begin{equation}v(x) = x^{3} - 2x + 100 \\end{equation}  \n"
      ]
    },
    {
      "cell_type": "markdown",
      "metadata": {
        "id": "y-rdqITsrsGh",
        "colab_type": "text"
      },
      "source": [
        "\n",
        "\n",
        "---\n",
        "\n"
      ]
    },
    {
      "cell_type": "code",
      "metadata": {
        "id": "P-LzhBg8nz4J",
        "colab_type": "code",
        "outputId": "8ef6efd5-ea2b-4d81-a309-23e77072e84b",
        "colab": {
          "base_uri": "https://localhost:8080/",
          "height": 366
        }
      },
      "source": [
        "%matplotlib inline\n",
        "\n",
        "def v(x):\n",
        "  return x**3-2*x+100\n",
        "\n",
        "x = Symbol('x')\n",
        "v_diff = diff(v(x),x)\n",
        "v_sol = solve(v_diff,x)\n",
        "\n",
        "x = list(range(-20,21))\n",
        "for i in range(len(x)):\n",
        "  x[i] = x[i]/10\n",
        "y = [v(i) for i in x]\n",
        "\n",
        "plt.plot(x,y,color = \"blue\")\n",
        "plt.xlabel('x')\n",
        "plt.ylabel('y')\n",
        "plt.text(1.5,99.8,'v(x)')\n",
        "plt.text(-1,100.5,'p1')\n",
        "plt.text(0.66,98.3,'p2')\n",
        "for i in range(len(v_sol)):\n",
        "  plt.scatter(v_sol[i],v(v_sol[i]),c = 'black')\n",
        "plt.show()\n",
        "\n",
        "def test_max(f,sol):\n",
        "  for i in range(len(x)):\n",
        "    if v(sol)<v(x[i]):\n",
        "      return False\n",
        "  return \"Unsure\"\n",
        "\n",
        "def test_min(f,sol):\n",
        "  for i in range(len(x)):\n",
        "    if v(sol)>v(x[i]):\n",
        "      return False\n",
        "  return \"Unsure\"\n",
        "\n",
        "print(\"=\"*50)\n",
        "print(\"Is p1 a max point?:\",test_max(v,v_sol[0]))\n",
        "print(\"Is p1 a min point?:\",test_min(v,v_sol[0]))\n",
        "print(\"Is p2 a max point?:\",test_max(v,v_sol[1]))\n",
        "print(\"Is p2 a min point?:\",test_min(v,v_sol[1]))"
      ],
      "execution_count": 0,
      "outputs": [
        {
          "output_type": "display_data",
          "data": {
            "image/png": "[encoded data removed]",
            "text/plain": [
              "<Figure size 432x288 with 1 Axes>"
            ]
          },
          "metadata": {
            "tags": [],
            "needs_background": "light"
          }
        },
        {
          "output_type": "stream",
          "text": [
            "==================================================\n",
            "Is p1 a max point?: False\n",
            "Is p1 a min point?: False\n",
            "Is p2 a max point?: False\n",
            "Is p2 a min point?: False\n"
          ],
          "name": "stdout"
        }
      ]
    },
    {
      "cell_type": "markdown",
      "metadata": {
        "id": "Pd4xTUpUryma",
        "colab_type": "text"
      },
      "source": [
        "Thus they are not max or min of the function.\n",
        "\n",
        "---\n",
        "\n"
      ]
    },
    {
      "cell_type": "markdown",
      "metadata": {
        "id": "fqXD5MUDr1B_",
        "colab_type": "text"
      },
      "source": [
        "Consider the derivatives of a function like the following: \n",
        "\n",
        "$$f(x,y) = x^2 + y^2$$\n",
        "\n",
        "We can take a derivative of the changes in the function with respect to either x or y.  Let's give this a try by taking the derivative of $f(x,y)$ with respect to ***x***. We write this partial derivative as follows.\n",
        "\n",
        "$$\\frac{\\partial f(x,y)}{\\partial x} = \\frac{\\partial (x^2 + y^2)}{\\partial x}$$\n",
        "\n",
        "The partial derivatives find the analog of the slope for multi-dimensional surfaces. We call this qunatity the gradient. The partial derivatives of the $$f(x,y)$$ can be written in a 2 dimensional vector of the change of the function\n",
        "$$grad(f(x,y)) = \\begin{bmatrix}\\frac{\\partial f(x,y)}{\\partial x} \\\\ \\frac{\\partial f(x,y)}{\\partial y} \\end{bmatrix} = \\begin{bmatrix}2x \\\\ 2y \\end{bmatrix} $$\n",
        "\n",
        "\n"
      ]
    },
    {
      "cell_type": "markdown",
      "metadata": {
        "id": "m2zT4J7Fs_ka",
        "colab_type": "text"
      },
      "source": [
        "#6. Write a Python code to generate the 2-dimensional gradient vector $$f(x,y) = x^2 + y^2 $$"
      ]
    },
    {
      "cell_type": "markdown",
      "metadata": {
        "id": "JuyqiOaDtlJI",
        "colab_type": "text"
      },
      "source": [
        "\n",
        "\n",
        "---\n",
        "\n"
      ]
    },
    {
      "cell_type": "code",
      "metadata": {
        "id": "ljZEVgBSs-zL",
        "colab_type": "code",
        "outputId": "ce4471d8-bdf6-4b89-fe6c-f89889dfcf0f",
        "colab": {
          "base_uri": "https://localhost:8080/",
          "height": 35
        }
      },
      "source": [
        "x,y = symbols('x y')\n",
        "\n",
        "def xy_grad(f):\n",
        "  return np.array([diff(f(x,y),x),diff(f(x,y),y)])\n",
        "\n",
        "def f(x,y):\n",
        "  return x**2+y**2\n",
        "\n",
        "print(xy_grad(f))"
      ],
      "execution_count": 0,
      "outputs": [
        {
          "output_type": "stream",
          "text": [
            "[2*x 2*y]\n"
          ],
          "name": "stdout"
        }
      ]
    },
    {
      "cell_type": "markdown",
      "metadata": {
        "id": "eozy2A2Qtrmv",
        "colab_type": "text"
      },
      "source": [
        "\n",
        "\n",
        "---\n",
        "\n"
      ]
    },
    {
      "cell_type": "markdown",
      "metadata": {
        "id": "aAzrj7E6uHOw",
        "colab_type": "text"
      },
      "source": [
        "All you have to do with this gradient vector would direct to find the minimum of the function $$𝑓(𝑥,𝑦)=𝑥^2+𝑦^2$$ \n",
        "It is easy to see that the minimum of this function is at 𝑥=0  and  𝑦=0. \n",
        "\n",
        "But, what if you did not know the solution of the n-dimensional problem (which your data would be normally more than 100 dimensions)?\n",
        "\n",
        "Then the Gradient Descent Method could be applicable as follows:\n",
        "\n",
        "1. Compute the gradient.\n",
        "2. Take a small step in the direction of the gradient.\n",
        "3. Determine if the gradient is close to zero. If so, then stop, since the gradient will be zero at the minimum.\n",
        "4. Repeate steps 2, 3 and 4.\n",
        "\n",
        "The algorithm outlined above is called the gradient decent method. It is the basis of many real-world minimization algorithms."
      ]
    },
    {
      "cell_type": "markdown",
      "metadata": {
        "id": "dfIreKC9ttZK",
        "colab_type": "text"
      },
      "source": [
        "#7. Implement a Gradient descent method (with Python), so to find the optimal minimal solution $$𝑓(𝑥,𝑦,z)= (𝑥-3)^2 + (𝑦-2)^2 + (z-5)^2 $$\n",
        "Please extend the code from Question 6.  "
      ]
    },
    {
      "cell_type": "markdown",
      "metadata": {
        "id": "OK8Ep_K9vqpl",
        "colab_type": "text"
      },
      "source": [
        "\n",
        "\n",
        "---\n",
        "\n"
      ]
    },
    {
      "cell_type": "code",
      "metadata": {
        "id": "3By9FAhKj30L",
        "colab_type": "code",
        "outputId": "a6ad8d7c-6c56-4d60-b567-474ac9cb294a",
        "colab": {
          "base_uri": "https://localhost:8080/",
          "height": 122
        }
      },
      "source": [
        "a = float(input(\"x:\"))\n",
        "b = float(input(\"y:\"))\n",
        "c = float(input(\"z:\"))\n",
        "x,y,z = symbols('x y z')\n",
        "\n",
        "def xyz_grad(f):\n",
        "  return np.array([diff(f(x,y,z),x),diff(f(x,y,z),y),diff(f(x,y,z),z)])\n",
        "\n",
        "def f(x,y,z):\n",
        "  return (x-3)**2+(y-2)**2+(z-5)**2\n",
        "\n",
        "def gdm(f,r): #gradient가 -0.001보다 크고 0.001보다 작아질 때까지\n",
        "  A = [a,b,c] #starting point\n",
        "  B = [x,y,z]\n",
        "  for i in range(100):\n",
        "    if -0.001<xyz_grad(f)[0].subs([(x,A[0]),(y,A[1]),(z,A[2])])<0.001 and -0.001<xyz_grad(f)[1].subs([(x,A[0]),(y,A[1]),(z,A[2])])<0.001 and -0.001<xyz_grad(f)[2].subs([(x,A[0]),(y,A[1]),(z,A[2])])<0.001:\n",
        "      return A\n",
        "    for j in range(3):\n",
        "      A[j] -= xyz_grad(f)[j].subs(B[j],A[j])*r\n",
        "  return A\n",
        "    \n",
        "print(\"=\"*50)\n",
        "print(gdm(f,0.1))\n",
        "\n",
        "def gdm(f,r): #gradient가 0이 될까지 \n",
        "  A = [a,b,c]\n",
        "  B = [x,y,z]\n",
        "  sum = 0\n",
        "  for i in range(100):\n",
        "    for j in range(3):\n",
        "      if xyz_grad(f)[j].subs([(x,A[0]),(y,A[1]),(z,A[2])])==0:\n",
        "        sum += 1\n",
        "    if sum == 3:\n",
        "      return A\n",
        "    for j in range(3):\n",
        "      A[j] -= xyz_grad(f)[j].subs(B[j],A[j])*r\n",
        "    else:\n",
        "      sum = 0\n",
        "  return A\n",
        "\n",
        "print(gdm(f,0.1))"
      ],
      "execution_count": 0,
      "outputs": [
        {
          "output_type": "stream",
          "text": [
            "x:1\n",
            "y:0\n",
            "z:0\n",
            "==================================================\n",
            "[2.99982985881654, 1.99982985881654, 4.99957464704135]\n",
            "[2.99999999959259, 1.99999999959259, 4.99999999898148]\n"
          ],
          "name": "stdout"
        }
      ]
    },
    {
      "cell_type": "markdown",
      "metadata": {
        "id": "PMl9cHnQvsOf",
        "colab_type": "text"
      },
      "source": [
        "x = 3, y = 2, z = 5\n",
        "\n",
        "---\n",
        "\n"
      ]
    },
    {
      "cell_type": "markdown",
      "metadata": {
        "id": "sgWoxRBrvuXl",
        "colab_type": "text"
      },
      "source": [
        "#8. Apply the Gradient Descent Method (from Question 7) to find the optimal minimal point of the following function (you need to use the chain rule from Question 4)  \n",
        "\n",
        "## $$ w(x) = f(g(h(k(x)))) $$\n",
        "\n",
        "where, \n",
        "$$ f(x) = log(g(x)) $$\n",
        "$$ g(x) = e^{h(x)} $$\n",
        "$$ h(x) = 2x^2+k(x) $$\n",
        "$$ k(x) = 5x-1 $$\n",
        "\n",
        "\n"
      ]
    },
    {
      "cell_type": "code",
      "metadata": {
        "id": "pODWLJVrx46G",
        "colab_type": "code",
        "outputId": "f10a160a-f11b-4813-e2e1-f1440e49e794",
        "colab": {
          "base_uri": "https://localhost:8080/",
          "height": 122
        }
      },
      "source": [
        "x = Symbol('x')\n",
        "\n",
        "def k(x):\n",
        "  return 5.0*x-1\n",
        "\n",
        "def h(x):\n",
        "  return 2*x**2.0+k(x)\n",
        "\n",
        "def g(x):\n",
        "  return np.e**(h(x))\n",
        "\n",
        "def f(x):\n",
        "  return log(g(x))\n",
        "\n",
        "def w(x):\n",
        "  return f(g(h(k(x))))\n",
        "\n",
        "#t = simplify(diff(w(x),x))\n",
        "t = simplify(diff(f(x),x).subs(x,g(h(k(x))))*diff(g(x),x).subs(x,h(k(x)))*diff(h(x),x).subs(x,k(x))*diff(k(x),x))\n",
        "\n",
        "def m(p): #GDM\n",
        "  r = 1e-2\n",
        "  for i in range(100): \n",
        "    if t.subs(x,p)>=0:\n",
        "      if t.subs(x,p-r)<0: #-0+나 -+의 기울기가 나타날때\n",
        "        return p\n",
        "      p -= r\n",
        "    else:\n",
        "      p += r\n",
        "  return True\n",
        "\n",
        "def n(r): #-r에서 r까지 0.1 만큼씩 테스트를 실시한다.\n",
        "  A = set() #중복제거\n",
        "  for i in range(-r,r+1):\n",
        "    if not m(i) == True:\n",
        "      A.add(format(m(i),'.3f'))\n",
        "  return list(A)\n",
        "\n",
        "#import timeit\n",
        "#start = timeit.default_timer()\n",
        "\n",
        "r = abs(int(input(\"r:\"))) #abs()로 정수 아무거나 넣어도 됨\n",
        "\n",
        "print(\"=\"*50)\n",
        "M = n(r)\n",
        "print(M) \n",
        "print(\"=\"*50)\n",
        "print(\"interval: (-\"+str(r)+\",\"+str(r)+\")\")\n",
        "\n",
        "#stop = timeit.default_timer()\n",
        "#print(stop - start)\n",
        "\n",
        "def min(): #해가 두개뿐인 것을 확인 후 사용((-10+sqrt(2300))/200,(-10+sqrt(2300))/200) 사실 두 x값 모두 같은 y값을 가지므로 무의미함\n",
        "  if w(float(M[0]))<w(float(M[1])):\n",
        "    return float(M[0]),w(float(M[0]))\n",
        "  else: \n",
        "    return float(M[1]),w(float(M[1]))\n",
        "\n",
        "print(\"optimal minimal point:\",min()) #특수한 경우는 못 찾을 수도 있음"
      ],
      "execution_count": 0,
      "outputs": [
        {
          "output_type": "stream",
          "text": [
            "r:20\n",
            "==================================================\n",
            "['-0.280', '0.190']\n",
            "==================================================\n",
            "interval: (-20,20)\n",
            "optimal minimal point: (0.19, -0.918655916715572)\n"
          ],
          "name": "stdout"
        }
      ]
    },
    {
      "cell_type": "code",
      "metadata": {
        "id": "SU8bHPJeLV3b",
        "colab_type": "code",
        "outputId": "cf357a4e-fb08-4c70-d538-3a917e75e3e1",
        "colab": {
          "base_uri": "https://localhost:8080/",
          "height": 35
        }
      },
      "source": [
        "x = Symbol('x')\n",
        "\n",
        "def k(x):\n",
        "  return 5.0*x-1\n",
        "\n",
        "def h(x):\n",
        "  return 2*x**2.0+k(x)\n",
        "\n",
        "def g(x):\n",
        "  return np.e**(h(x))\n",
        "\n",
        "def f(x):\n",
        "  return log(g(x))\n",
        "\n",
        "def w(x):\n",
        "  return f(g(h(k(x))))\n",
        "\n",
        "t = simplify(diff(f(x),x).subs(x,g(h(k(x))))*diff(g(x),x).subs(x,h(k(x)))*diff(h(x),x).subs(x,k(x))*diff(k(x),x))\n",
        "\n",
        "def m(p): #gdm이라 하긴 좀 그렇지만 그냥 적어봄\n",
        "  r = 1e-2\n",
        "  A = []\n",
        "  for i in range(4000): \n",
        "    if t.subs(x,p)>=0:\n",
        "      if t.subs(x,p-r)<0: \n",
        "        A.append(p)\n",
        "    p += r\n",
        "  return A\n",
        "\n",
        "print(m(-20))"
      ],
      "execution_count": 0,
      "outputs": [
        {
          "output_type": "stream",
          "text": [
            "[-0.2799999999996732, 0.19000000000032696]\n"
          ],
          "name": "stdout"
        }
      ]
    },
    {
      "cell_type": "markdown",
      "metadata": {
        "id": "4O9mJsO4pKxk",
        "colab_type": "text"
      },
      "source": [
        "(0.19, -0.918655916715572)"
      ]
    },
    {
      "cell_type": "markdown",
      "metadata": {
        "id": "usA8C38Ax-0e",
        "colab_type": "text"
      },
      "source": [
        "\n",
        "---\n",
        "\n"
      ]
    },
    {
      "cell_type": "markdown",
      "metadata": {
        "id": "exIfYKkxyBWz",
        "colab_type": "text"
      },
      "source": [
        "In general terms, a matrix is an array of numbers that are arranged into rows and columns.\n",
        "\n",
        "## Matrices and Matrix Notation\n",
        "A matrix arranges numbers into rows and columns, like this:\n",
        "\n",
        "\\begin{equation}A = \\begin{bmatrix}\n",
        "  1 & 2 & 3 \\\\\n",
        "  4 & 5 & 6\n",
        " \\end{bmatrix}\n",
        "\\end{equation}\n",
        "\n",
        "Note that matrices are generally named as a capital letter. We refer to the *elements* of the matrix using the lower case equivalent with a subscript row and column indicator, like this:\n",
        "\n",
        "\\begin{equation}A = \\begin{bmatrix}\n",
        "  a_{1,1} & a_{1,2} & a_{1,3} \\\\\n",
        "  a_{2,1} & a_{2,2} & a_{2,3}\n",
        " \\end{bmatrix}\n",
        "\\end{equation}\n",
        "\n",
        "In Python, you can define a matrix as a 2-dimensional *numpy.**array***, like this:"
      ]
    },
    {
      "cell_type": "code",
      "metadata": {
        "id": "spkSUnLSypZN",
        "colab_type": "code",
        "colab": {}
      },
      "source": [
        "#execute the following code "
      ],
      "execution_count": 0,
      "outputs": []
    },
    {
      "cell_type": "code",
      "metadata": {
        "id": "GP07NxTEyseD",
        "colab_type": "code",
        "outputId": "968ca764-de35-44ff-ede5-a3a7851a7032",
        "colab": {
          "base_uri": "https://localhost:8080/",
          "height": 52
        }
      },
      "source": [
        "import numpy as np\n",
        "\n",
        "A = np.array([[1,2,3],\n",
        "              [4,5,6]])\n",
        "print (A)"
      ],
      "execution_count": 0,
      "outputs": [
        {
          "output_type": "stream",
          "text": [
            "[[1 2 3]\n",
            " [4 5 6]]\n"
          ],
          "name": "stdout"
        }
      ]
    },
    {
      "cell_type": "markdown",
      "metadata": {
        "id": "uO45EtgXyzJv",
        "colab_type": "text"
      },
      "source": [
        "You can also use the numpy.matrix type, which is a specialist subclass of array:"
      ]
    },
    {
      "cell_type": "code",
      "metadata": {
        "id": "21o9S4Z_yua4",
        "colab_type": "code",
        "colab": {}
      },
      "source": [
        "#execute the following code "
      ],
      "execution_count": 0,
      "outputs": []
    },
    {
      "cell_type": "code",
      "metadata": {
        "id": "yV2vSAw9y8nW",
        "colab_type": "code",
        "outputId": "a75c5e5b-978a-408e-f0d8-96d775c258fd",
        "colab": {
          "base_uri": "https://localhost:8080/",
          "height": 52
        }
      },
      "source": [
        "import numpy as np\n",
        "\n",
        "M = np.matrix([[1,2,3],\n",
        "               [4,5,6]])\n",
        "print (M)"
      ],
      "execution_count": 0,
      "outputs": [
        {
          "output_type": "stream",
          "text": [
            "[[1 2 3]\n",
            " [4 5 6]]\n"
          ],
          "name": "stdout"
        }
      ]
    },
    {
      "cell_type": "markdown",
      "metadata": {
        "id": "fq6rxElXzCfJ",
        "colab_type": "text"
      },
      "source": [
        "#9. You now have the 2-dimensional gradient vector from Question 6. Create a matrix to hold the gradient values of the following two points \n",
        "\n",
        "(x<sub>1</sub>, y<sub>1</sub>) = (1,3), (x<sub>2</sub>, y<sub>2</sub>) = (-1,-3) "
      ]
    },
    {
      "cell_type": "code",
      "metadata": {
        "id": "Mys1bU-L0o6Y",
        "colab_type": "code",
        "outputId": "65824a47-49fd-49f4-a919-9a3446baf5b0",
        "colab": {
          "base_uri": "https://localhost:8080/",
          "height": 52
        }
      },
      "source": [
        "x,y = symbols('x,y')\n",
        "\n",
        "def xy_grad(f):\n",
        "  return np.array([diff(f(x,y),x),diff(f(x,y),y)])\n",
        "\n",
        "def f(x,y):\n",
        "  return x**2+y**2\n",
        "\n",
        "point1 = np.array([1,3])\n",
        "point2 = np.array([-1,-3])\n",
        "\n",
        "def gradient(f,p):\n",
        "  k = [0]*2\n",
        "  for i in range(2):\n",
        "    k[i] = xy_grad(f)[i].subs([(x,p[0]),(y,p[1])])\n",
        "  return k\n",
        "\n",
        "def gradient2(f,p1,p2):\n",
        "  return np.vstack((gradient(f,p1),gradient(f,p2)))\n",
        "\n",
        "print(gradient2(f,point1,point2))"
      ],
      "execution_count": 0,
      "outputs": [
        {
          "output_type": "stream",
          "text": [
            "[[2 6]\n",
            " [-2 -6]]\n"
          ],
          "name": "stdout"
        }
      ]
    },
    {
      "cell_type": "markdown",
      "metadata": {
        "id": "e6Lt48wF0uiQ",
        "colab_type": "text"
      },
      "source": [
        "\n",
        "\n",
        "---\n",
        "\n"
      ]
    },
    {
      "cell_type": "markdown",
      "metadata": {
        "id": "YuLsawK_0xfE",
        "colab_type": "text"
      },
      "source": [
        "By the gradient descent method, you need to move your next search point toward the left, at (x<sub>1</sub>, y<sub>1</sub>). By the same convention, you need to move your next search point  toward the right, at (x<sub>2</sub>, y<sub>2</sub>), until the gradient vectors' values of your search points are close to 0.   \n",
        "\n",
        "---\n",
        "\n",
        "#10. Update your code from #Question7 to encompass the multi-dimensional gradient descent methods using the gradient matrices. "
      ]
    },
    {
      "cell_type": "code",
      "metadata": {
        "id": "5h4d3jpcy9QR",
        "colab_type": "code",
        "outputId": "a6423ea0-d212-47ee-bed2-8e7f426e9167",
        "colab": {
          "base_uri": "https://localhost:8080/",
          "height": 157
        }
      },
      "source": [
        "n = abs(int(input(\"n:\")))\n",
        "f = input(\"f:\")\n",
        "\n",
        "def grad(f):\n",
        "  B = [0]*n\n",
        "  for i in range(n):\n",
        "    B[i] = diff(f,Symbol('x'+str(i)))\n",
        "  return B\n",
        "\n",
        "r = 0.1 #step size\n",
        "ri = 0.00001 #gdm을 멈추는 기준\n",
        "\n",
        "def n_gdm(f):\n",
        "  A = [0]*n\n",
        "  for i in range(n):\n",
        "    A[i] = float(input(\"x\"+str(i)+\":\")) #startarting point \n",
        "  B = [0]*n\n",
        "  K = 0\n",
        "  for i in range(n):\n",
        "    B[i] = Symbol('x'+str(i))\n",
        "  sum = 0\n",
        "  for i in range(100): #gdm횟수\n",
        "    for j in range(n):\n",
        "      K = grad(f)[j]\n",
        "      for k in range(n):\n",
        "        K = K.subs(Symbol('x'+str(k)),A[k])\n",
        "      if abs(K) <= ri:\n",
        "        sum += 1\n",
        "    if sum == n:\n",
        "      return A\n",
        "    for j in range(n):\n",
        "      K = grad(f)[j]\n",
        "      for k in range(n):\n",
        "        K = K.subs(Symbol('x'+str(k)),A[k])\n",
        "      A[j] -= K*r\n",
        "    sum = 0\n",
        "  return A\n",
        "\n",
        "print(\"=\"*50)\n",
        "print(\"gradient vector:\",grad(f))\n",
        "print(\"gdm:\",n_gdm(f)) #가끔씩 폭주할때가 있음"
      ],
      "execution_count": 0,
      "outputs": [
        {
          "output_type": "stream",
          "text": [
            "n:3\n",
            "f:x0**2+(x1-6)**2+(x2-1)**2\n",
            "==================================================\n",
            "gradient vector: [2*x0, 2*x1 - 12, 2*x2 - 2]\n",
            "x0:4\n",
            "x1:2\n",
            "x2:2\n",
            "gdm: [4.90398573077085e-6, 5.99999509601427, 1.00000122599643]\n"
          ],
          "name": "stdout"
        }
      ]
    },
    {
      "cell_type": "markdown",
      "metadata": {
        "id": "e40xrm3d2VKc",
        "colab_type": "text"
      },
      "source": [
        "\n",
        "\n",
        "---\n",
        "\n"
      ]
    },
    {
      "cell_type": "markdown",
      "metadata": {
        "id": "DQF2akdY2XrF",
        "colab_type": "text"
      },
      "source": [
        "We can decompse a matrix using the following formula: \n",
        "Where ***A*** is a matrix (for example the answer from Question 9), ***Q*** is a matrix of eigenvectors that defines a change of basis, and ***&Lambda;*** is a matrix with eigenvalues on the diagonal that defines the same linear transformation as ***A*** in the base defined by ***Q***.\n",
        "\n",
        "Consider this matrix:\n",
        "\n",
        "$$A=\\begin{bmatrix}3 & 2\\\\1 & 0\\end{bmatrix}$$\n",
        "\n",
        "(note that you need to change this ***A*** into the answer from Question #9.) \n",
        "\n",
        "***Q*** is a matrix in which each column is an eigenvector of ***A***; which we can calculate using Python:"
      ]
    },
    {
      "cell_type": "code",
      "metadata": {
        "id": "4MDkQBoF9m77",
        "colab_type": "code",
        "colab": {}
      },
      "source": [
        "#Execute the following code"
      ],
      "execution_count": 0,
      "outputs": []
    },
    {
      "cell_type": "code",
      "metadata": {
        "id": "ITUwV4Rr9qTE",
        "colab_type": "code",
        "outputId": "6cb5a855-9512-4e63-d0fc-6337bbbe3ad5",
        "colab": {
          "base_uri": "https://localhost:8080/",
          "height": 52
        }
      },
      "source": [
        "import numpy as np\n",
        "\n",
        "A = np.array([[3,2],\n",
        "              [1,0]])\n",
        "\n",
        "l, Q = np.linalg.eig(A)\n",
        "print(Q)"
      ],
      "execution_count": 0,
      "outputs": [
        {
          "output_type": "stream",
          "text": [
            "[[ 0.96276969 -0.48963374]\n",
            " [ 0.27032301  0.87192821]]\n"
          ],
          "name": "stdout"
        }
      ]
    },
    {
      "cell_type": "markdown",
      "metadata": {
        "id": "1kzjEB7i9uS7",
        "colab_type": "text"
      },
      "source": [
        "So for matrix ***A***, ***Q*** is the following matrix:\n",
        "\n",
        "$$Q=\\begin{bmatrix}0.96276969 & -0.48963374\\\\0.27032301 & 0.87192821\\end{bmatrix}$$\n",
        "\n",
        "***&Lambda;*** is a matrix that contains the eigenvalues for ***A*** on the diagonal, with zeros in all other elements; so for a 2x2 matrix, &Lambda; will look like this:\n",
        "\n",
        "$$\\Lambda=\\begin{bmatrix}\\lambda_{1} & 0\\\\0 & \\lambda_{2}\\end{bmatrix}$$\n",
        "\n",
        "In the Python code, the ***linalg.eig*** function to return the array of eigenvalues for ***A*** into the variable ***l***, so now we just need to format that as a matrix:"
      ]
    },
    {
      "cell_type": "code",
      "metadata": {
        "id": "lQ_hXNor9r7g",
        "colab_type": "code",
        "colab": {}
      },
      "source": [
        "#Execute the following code"
      ],
      "execution_count": 0,
      "outputs": []
    },
    {
      "cell_type": "code",
      "metadata": {
        "id": "V_jMwuz4-Eir",
        "colab_type": "code",
        "outputId": "bc0e5fe4-5ba5-48a7-8925-b3caef7f373f",
        "colab": {
          "base_uri": "https://localhost:8080/",
          "height": 52
        }
      },
      "source": [
        "L = np.diag(l)\n",
        "print (L)"
      ],
      "execution_count": 0,
      "outputs": [
        {
          "output_type": "stream",
          "text": [
            "[[ 3.56155281  0.        ]\n",
            " [ 0.         -0.56155281]]\n"
          ],
          "name": "stdout"
        }
      ]
    },
    {
      "cell_type": "markdown",
      "metadata": {
        "id": "l_mjFwpq-Jdr",
        "colab_type": "text"
      },
      "source": [
        "So ***&Lambda;*** is the following matrix:\n",
        "\n",
        "$$\\Lambda=\\begin{bmatrix}3.56155281 & 0\\\\0 & -0.56155281\\end{bmatrix}$$\n",
        "\n",
        "Now we  need to find ***Q<sup>-1</sup>***, which is the inverse of ***Q***:"
      ]
    },
    {
      "cell_type": "code",
      "metadata": {
        "id": "r1CWO_h8-GHD",
        "colab_type": "code",
        "colab": {}
      },
      "source": [
        "#execute the following code "
      ],
      "execution_count": 0,
      "outputs": []
    },
    {
      "cell_type": "code",
      "metadata": {
        "id": "8FgH0HqT-Ry1",
        "colab_type": "code",
        "outputId": "e5e23985-c230-48de-a616-ded2a4a18d1b",
        "colab": {
          "base_uri": "https://localhost:8080/",
          "height": 52
        }
      },
      "source": [
        "Qinv = np.linalg.inv(Q)\n",
        "print(Qinv)"
      ],
      "execution_count": 0,
      "outputs": [
        {
          "output_type": "stream",
          "text": [
            "[[ 0.89720673  0.50382896]\n",
            " [-0.27816009  0.99068183]]\n"
          ],
          "name": "stdout"
        }
      ]
    },
    {
      "cell_type": "markdown",
      "metadata": {
        "id": "bllxOKHDAOIt",
        "colab_type": "text"
      },
      "source": [
        ""
      ]
    },
    {
      "cell_type": "markdown",
      "metadata": {
        "id": "d6_sefWO-VUt",
        "colab_type": "text"
      },
      "source": [
        "The inverse of ***Q*** then, is:\n",
        "\n",
        "$$Q^{-1}=\\begin{bmatrix}0.89720673 & 0.50382896\\\\-0.27816009 & 0.99068183\\end{bmatrix}$$\n",
        "\n",
        "Now, we can decompose the transformation of *any* vector multiplied by matrix ***A*** into the separate operations ***Q&Lambda;Q<sup>-1</sup>***\n",
        "\n",
        "This is called as an eigendecomposition..."
      ]
    },
    {
      "cell_type": "markdown",
      "metadata": {
        "id": "BAiZhEtQ_SZn",
        "colab_type": "text"
      },
      "source": [
        "#11. Display ***A*** and the following eigendecomposition is equivalent \n",
        "$$Q \\Lambda Q^{-1} $$\n"
      ]
    },
    {
      "cell_type": "code",
      "metadata": {
        "id": "IyvqSrb_-SMf",
        "colab_type": "code",
        "outputId": "5784f6fe-27e8-457b-cac9-9ba57ab11e41",
        "colab": {
          "base_uri": "https://localhost:8080/",
          "height": 35
        }
      },
      "source": [
        "A1 = Q.dot(L.dot(Qinv))\n",
        "\n",
        "def A_eq_B(A,B): \n",
        "  for i in range(np.shape(A)[0]):\n",
        "    for j in range(np.shape(A)[1]):\n",
        "      if format(A[i,j],'.8f') == format(B[i,j],'.8f'): #소숫점 8자리까지 비교\n",
        "        return True\n",
        "  return False\n",
        "  \n",
        "print(A_eq_B(A,A1))"
      ],
      "execution_count": 0,
      "outputs": [
        {
          "output_type": "stream",
          "text": [
            "True\n"
          ],
          "name": "stdout"
        }
      ]
    },
    {
      "cell_type": "markdown",
      "metadata": {
        "id": "CY784rwR_rG9",
        "colab_type": "text"
      },
      "source": [
        "They are equivalent.\n",
        "\n",
        "---\n",
        "\n"
      ]
    },
    {
      "cell_type": "markdown",
      "metadata": {
        "id": "sLgcUNq9_yin",
        "colab_type": "text"
      },
      "source": [
        "In your later study (I reckon Year 3) with regard to Deep learning, you will revisit this eigendecomposition issue when you learn 'Regularization'. \n",
        "\n",
        "For example, your Hessian Matrix (in fact the following is the Hessian Matrix of Question #6) \n",
        "$$A=\\begin{bmatrix}2 & 0\\\\0 & 2\\end{bmatrix}$$\n",
        "\n",
        "Then, you apply the eigendecomposition of ***A***, resulting \n",
        "\n",
        "$$ H = Q \\Lambda Q^{-1} $$\n",
        "\n",
        "Then the ***H*** can be added up by an Identity matrix multiplied by a certain constant to a new Hessian Matrix, such as:\n",
        "\n",
        "$$H'=\\begin{bmatrix}h_{11}+\\alpha & 0\\\\0 & h_{22}+\\alpha\\end{bmatrix}$$\n",
        "\n",
        "The inverse of the new matrix ***H'*** would be used to along with your gradient descent method (from your question #10), to find the solution of the deep learning.  "
      ]
    },
    {
      "cell_type": "markdown",
      "metadata": {
        "id": "4zysaMkKBhSZ",
        "colab_type": "text"
      },
      "source": [
        "#12. First, write a Python program to make eigendecomposition,  then show how H can be converted into ***H'***, then finally find the inverse matrix of ***H'*** \n",
        "\n",
        "$$A=\\begin{bmatrix}2 & 0\\\\0 & 2\\end{bmatrix}$$\n",
        "\n"
      ]
    },
    {
      "cell_type": "code",
      "metadata": {
        "id": "kOJPPPep-jjz",
        "colab_type": "code",
        "outputId": "c06e04d7-a0fc-4743-8487-b7ee92bc583a",
        "colab": {
          "base_uri": "https://localhost:8080/",
          "height": 140
        }
      },
      "source": [
        "A = np.array([[2,0],[0,2]])\n",
        "H = np.array([[2,0],[0,2]])\n",
        "n = int(input(\"a:\"))\n",
        "Hh = H + np.eye(2)*n\n",
        "print(H)\n",
        "print(Hh)\n",
        "\n",
        "l,Q = np.linalg.eig(A)\n",
        "L = np.diag(l)\n",
        "\n",
        "def del_iraw_jcol(A,i,j): #i raw와 j column을 제거(i,j는 0부터 시작한다고 생각)\n",
        "  B = np.vstack((A[:i,:],A[i+1:,:])) #vstack,hstack,[:,:,:]는 새 matrix를 만든 뒤 재라벨링해서 만들 수 있지만 중요하지 않은 것 같아서 생략했음\n",
        "  C = np.hstack((B[:,:j],B[:,j+1:]))\n",
        "  return C\n",
        "\n",
        "def deter(A): #det function\n",
        "  n = len(A[0])\n",
        "  m = 0\n",
        "  if n == 1:\n",
        "    return A[0,0]\n",
        "  else:\n",
        "    for i in range(n):\n",
        "      m += A[i,0]*deter(del_iraw_jcol(A,i,0))*(-1)**i\n",
        "  return m\n",
        "\n",
        "def T(A): #A.T function\n",
        "  n = len(A[0])\n",
        "  B = np.eye(n) #n*n matrix 아무거나\n",
        "  for i in range(n):\n",
        "    for j in range(n):\n",
        "      B[i,j] = A[j,i]\n",
        "  return B\n",
        "\n",
        "def inver(A): #inv function\n",
        "  n = len(A[0])\n",
        "  B = np.eye(n) \n",
        "  for i in range(n):\n",
        "    for j in range(n):\n",
        "      B[i,j] = deter(del_iraw_jcol(A,i,j))*(-1)**i\n",
        "  C = T(B)/deter(A) \n",
        "  return C\n",
        "\n",
        "print(inver(Hh))"
      ],
      "execution_count": 0,
      "outputs": [
        {
          "output_type": "stream",
          "text": [
            "a:3\n",
            "[[2 0]\n",
            " [0 2]]\n",
            "[[5. 0.]\n",
            " [0. 5.]]\n",
            "[[ 0.2 -0. ]\n",
            " [ 0.  -0.2]]\n"
          ],
          "name": "stdout"
        }
      ]
    },
    {
      "cell_type": "markdown",
      "metadata": {
        "id": "lSumP3maEmWh",
        "colab_type": "text"
      },
      "source": [
        "\n",
        "\n",
        "---\n",
        "\n"
      ]
    },
    {
      "cell_type": "markdown",
      "metadata": {
        "id": "oeyObiswEnqT",
        "colab_type": "text"
      },
      "source": [
        "Statistics are based on data, which consist of a collection of pieces of information about things you want to study. This information can take the form of descriptions, quantities, measurements, and other observations. Typically, we work with related data items in a dataset, which often consists of a collection of observations or cases. Most commonly, we thing about this dataset as a table that consists of a row for each observation, and a column for each individual data point related to that observation - we variously call these data points attributes or features, and they each describe a specific characteristic of the thing we're observing.\n",
        "\n",
        "Let's take a look at a real example. In 1886, Francis Galton conducted a study into the relationship between heights of parents and their (adult) children. Run the Python code below to view the data he collected (you can safely ignore a deprecation warning if it is displayed):"
      ]
    },
    {
      "cell_type": "code",
      "metadata": {
        "id": "wR2WQr3lE-3a",
        "colab_type": "code",
        "colab": {}
      },
      "source": [
        "#Execute the following code "
      ],
      "execution_count": 0,
      "outputs": []
    },
    {
      "cell_type": "code",
      "metadata": {
        "id": "HmvtC2rqFAuV",
        "colab_type": "code",
        "outputId": "6f1dc537-12ce-4f0d-edb0-7eb8e4fb0577",
        "colab": {
          "base_uri": "https://localhost:8080/",
          "height": 426
        }
      },
      "source": [
        "import statsmodels.api as sm\n",
        "\n",
        "df = sm.datasets.get_rdataset('GaltonFamilies', package='HistData').data\n",
        "df"
      ],
      "execution_count": 0,
      "outputs": [
        {
          "output_type": "stream",
          "text": [
            "/usr/local/lib/python3.6/dist-packages/statsmodels/tools/_testing.py:19: FutureWarning: pandas.util.testing is deprecated. Use the functions in the public API at pandas.testing instead.\n",
            "  import pandas.util.testing as tm\n"
          ],
          "name": "stderr"
        },
        {
          "output_type": "execute_result",
          "data": {
            "text/html": [
              "<div>\n",
              "<style scoped>\n",
              "    .dataframe tbody tr th:only-of-type {\n",
              "        vertical-align: middle;\n",
              "    }\n",
              "\n",
              "    .dataframe tbody tr th {\n",
              "        vertical-align: top;\n",
              "    }\n",
              "\n",
              "    .dataframe thead th {\n",
              "        text-align: right;\n",
              "    }\n",
              "</style>\n",
              "<table border=\"1\" class=\"dataframe\">\n",
              "  <thead>\n",
              "    <tr style=\"text-align: right;\">\n",
              "      <th></th>\n",
              "      <th>family</th>\n",
              "      <th>father</th>\n",
              "      <th>mother</th>\n",
              "      <th>midparentHeight</th>\n",
              "      <th>children</th>\n",
              "      <th>childNum</th>\n",
              "      <th>gender</th>\n",
              "      <th>childHeight</th>\n",
              "    </tr>\n",
              "  </thead>\n",
              "  <tbody>\n",
              "    <tr>\n",
              "      <th>0</th>\n",
              "      <td>001</td>\n",
              "      <td>78.5</td>\n",
              "      <td>67.0</td>\n",
              "      <td>75.43</td>\n",
              "      <td>4</td>\n",
              "      <td>1</td>\n",
              "      <td>male</td>\n",
              "      <td>73.2</td>\n",
              "    </tr>\n",
              "    <tr>\n",
              "      <th>1</th>\n",
              "      <td>001</td>\n",
              "      <td>78.5</td>\n",
              "      <td>67.0</td>\n",
              "      <td>75.43</td>\n",
              "      <td>4</td>\n",
              "      <td>2</td>\n",
              "      <td>female</td>\n",
              "      <td>69.2</td>\n",
              "    </tr>\n",
              "    <tr>\n",
              "      <th>2</th>\n",
              "      <td>001</td>\n",
              "      <td>78.5</td>\n",
              "      <td>67.0</td>\n",
              "      <td>75.43</td>\n",
              "      <td>4</td>\n",
              "      <td>3</td>\n",
              "      <td>female</td>\n",
              "      <td>69.0</td>\n",
              "    </tr>\n",
              "    <tr>\n",
              "      <th>3</th>\n",
              "      <td>001</td>\n",
              "      <td>78.5</td>\n",
              "      <td>67.0</td>\n",
              "      <td>75.43</td>\n",
              "      <td>4</td>\n",
              "      <td>4</td>\n",
              "      <td>female</td>\n",
              "      <td>69.0</td>\n",
              "    </tr>\n",
              "    <tr>\n",
              "      <th>4</th>\n",
              "      <td>002</td>\n",
              "      <td>75.5</td>\n",
              "      <td>66.5</td>\n",
              "      <td>73.66</td>\n",
              "      <td>4</td>\n",
              "      <td>1</td>\n",
              "      <td>male</td>\n",
              "      <td>73.5</td>\n",
              "    </tr>\n",
              "    <tr>\n",
              "      <th>...</th>\n",
              "      <td>...</td>\n",
              "      <td>...</td>\n",
              "      <td>...</td>\n",
              "      <td>...</td>\n",
              "      <td>...</td>\n",
              "      <td>...</td>\n",
              "      <td>...</td>\n",
              "      <td>...</td>\n",
              "    </tr>\n",
              "    <tr>\n",
              "      <th>929</th>\n",
              "      <td>203</td>\n",
              "      <td>62.0</td>\n",
              "      <td>66.0</td>\n",
              "      <td>66.64</td>\n",
              "      <td>3</td>\n",
              "      <td>1</td>\n",
              "      <td>male</td>\n",
              "      <td>64.0</td>\n",
              "    </tr>\n",
              "    <tr>\n",
              "      <th>930</th>\n",
              "      <td>203</td>\n",
              "      <td>62.0</td>\n",
              "      <td>66.0</td>\n",
              "      <td>66.64</td>\n",
              "      <td>3</td>\n",
              "      <td>2</td>\n",
              "      <td>female</td>\n",
              "      <td>62.0</td>\n",
              "    </tr>\n",
              "    <tr>\n",
              "      <th>931</th>\n",
              "      <td>203</td>\n",
              "      <td>62.0</td>\n",
              "      <td>66.0</td>\n",
              "      <td>66.64</td>\n",
              "      <td>3</td>\n",
              "      <td>3</td>\n",
              "      <td>female</td>\n",
              "      <td>61.0</td>\n",
              "    </tr>\n",
              "    <tr>\n",
              "      <th>932</th>\n",
              "      <td>204</td>\n",
              "      <td>62.5</td>\n",
              "      <td>63.0</td>\n",
              "      <td>65.27</td>\n",
              "      <td>2</td>\n",
              "      <td>1</td>\n",
              "      <td>male</td>\n",
              "      <td>66.5</td>\n",
              "    </tr>\n",
              "    <tr>\n",
              "      <th>933</th>\n",
              "      <td>204</td>\n",
              "      <td>62.5</td>\n",
              "      <td>63.0</td>\n",
              "      <td>65.27</td>\n",
              "      <td>2</td>\n",
              "      <td>2</td>\n",
              "      <td>female</td>\n",
              "      <td>57.0</td>\n",
              "    </tr>\n",
              "  </tbody>\n",
              "</table>\n",
              "<p>934 rows × 8 columns</p>\n",
              "</div>"
            ],
            "text/plain": [
              "    family  father  mother  ...  childNum  gender  childHeight\n",
              "0      001    78.5    67.0  ...         1    male         73.2\n",
              "1      001    78.5    67.0  ...         2  female         69.2\n",
              "2      001    78.5    67.0  ...         3  female         69.0\n",
              "3      001    78.5    67.0  ...         4  female         69.0\n",
              "4      002    75.5    66.5  ...         1    male         73.5\n",
              "..     ...     ...     ...  ...       ...     ...          ...\n",
              "929    203    62.0    66.0  ...         1    male         64.0\n",
              "930    203    62.0    66.0  ...         2  female         62.0\n",
              "931    203    62.0    66.0  ...         3  female         61.0\n",
              "932    204    62.5    63.0  ...         1    male         66.5\n",
              "933    204    62.5    63.0  ...         2  female         57.0\n",
              "\n",
              "[934 rows x 8 columns]"
            ]
          },
          "metadata": {
            "tags": []
          },
          "execution_count": 29
        }
      ]
    },
    {
      "cell_type": "markdown",
      "metadata": {
        "id": "VoZJfOKOFI9U",
        "colab_type": "text"
      },
      "source": [
        "### Types of Data\n",
        "Now, let's take a closer look at this data.  There are 933 observations, each one recording information pertaining to an individual child. The information recorded consists of the following features:\n",
        "- **family**: An identifier for the family to which the child belongs.\n",
        "- **father**: The height of the father.\n",
        "- **mother**: The height of the mother.\n",
        "- **midparentHeight**: The mid-point between the father and mother's heights (calculated as *(father + 1.08 x mother) &div; 2*)\n",
        "- **children**: The total number of children in the family.\n",
        "- **childNum**: The number of the child to whom this observation pertains (Galton numbered the children in desending order of height, with male children listed before female children)\n",
        "- **gender**: The gender of the child to whom this observation pertains.\n",
        "- **childHeight**: The height of the child to whom this observation pertains.\n",
        "\n",
        "It's worth noting that there are several distinct types of data recorded here. To begin with, there are some features that represent *qualities*, or characteristics of the child - for example, gender. Other feaures represent a *quantity* or measurement, such as the child's height. So broadly speaking, we can divide data into *qualitative* and *quantitative* data.\n",
        "\n",
        "#### Qualitative Data\n",
        "Let's take a look at qualitative data first. This type of data is categorical - it is used to categorize or identify the entity being observed. Sometimes you'll see features of this type described as *factors*. \n",
        "##### Nominal Data\n",
        "In his observations of children's height, Galton assigned an identifier to each family and he recorded the gender of each child. Note that even though the **family** identifier is a number, it is not a measurement or quantity. Family 002 it not \"greater\" than family 001, just as a **gender** value of \"male\" does not indicate a larger or smaller value than \"female\". These are simply named values for some characteristic of the child, and as such they're known as *nominal* data.\n",
        "##### Ordinal Data\n",
        "What about the **childNum** feature? It's not a measurement or quantity - it's just a way to identify individual children within a family. However, the number assigned to each child has some additional meaning - the numbers are ordered. You can find similar data that is text-based; for example, data about training courses might include a \"level\" attribute that indicates the level of the course as \"basic:, \"intermediate\", or \"advanced\". This type of data, where the value is not itself a quantity or measurement, but it indicates some sort of inherent order or heirarchy, is known as *ordinal* data.\n",
        "#### Quantitative Data\n",
        "There are some kind of quantity or measurement: \n",
        "##### Discrete Data\n",
        "Galton's observations include the number of **children** in each family. This is a *discrete* quantative data value - it's something we *count* rather than *measure*. You can't, for example, have 2.33 children!\n",
        "##### Continuous Data\n",
        "The data set also includes height values for **father**, **mother**, **midparentHeight**, and **childHeight**. These are measurements along a scale, and as such they're described as *continuous* quantative data values that we *measure* rather than *count*.\n",
        "\n",
        "### Sample vs Population\n",
        "Galton's dataset includes 933 observations. It's safe to assume that this does not account for every person in the world, or even just the UK, in 1886 when the data was collected. In other words, Galton's data represents a *sample* of a larger *population*. It's worth pausing to think about this for a few seconds, because there are some implications for any conclusions we might draw from Galton's observations.\n",
        "\n",
        "Think about how many times you see a claim such as \"one in four Americans enjoys watching football\". How do the people who make this claim know that this is a fact? Have they asked everyone in the the US about their football-watching habits? Well, that would be a bit impractical, so what usually happens is that a study is conducted on a subset of the population, and (assuming that this is a well-conducted study), that subset will be a representative sample of the population as a whole. If the survey was conducted at the stadium where the Superbowl is being played, then the results are likely to be skewed because of a bias in the study participants.\n",
        "\n",
        "Similarly, we might look at Galton's data and assume that the heights of the people included in the study bears some relation to the heights of the general population in 1886; but if Galton specifically selected abnormally tall people for his study, then this assumption would be unfounded.\n",
        "\n",
        "When we deal with statistics, we usually work with a sample of the data rather than a full population. "
      ]
    },
    {
      "cell_type": "markdown",
      "metadata": {
        "id": "YYk8k8q_Gdht",
        "colab_type": "text"
      },
      "source": [
        "#13. Write a Python code to create a bar chart showing the number of children of each gender "
      ]
    },
    {
      "cell_type": "code",
      "metadata": {
        "id": "JVoSddixGqcK",
        "colab_type": "code",
        "outputId": "191c8ef9-3fc8-49be-cc4f-1f817daca9ee",
        "colab": {
          "base_uri": "https://localhost:8080/",
          "height": 281
        }
      },
      "source": [
        "%matplotlib inline \n",
        "gen_chi = df.groupby('gender').family.count() #성별 제외한 아무항이나 앞에 붙이고 .count()하면 개수 셀 수 있음\n",
        "gen = [\"female\",\"male\"] #values of gender\n",
        "n = np.arange(len(gen))\n",
        "\n",
        "plt.bar(n,gen_chi)\n",
        "plt.xlabel('gender')\n",
        "plt.ylabel('number of chirdren')\n",
        "plt.xticks(n,gen)\n",
        "plt.show()"
      ],
      "execution_count": 0,
      "outputs": [
        {
          "output_type": "display_data",
          "data": {
            "image/png": "[encoded data removed]",
            "text/plain": [
              "<Figure size 432x288 with 1 Axes>"
            ]
          },
          "metadata": {
            "tags": [],
            "needs_background": "light"
          }
        }
      ]
    },
    {
      "cell_type": "markdown",
      "metadata": {
        "id": "_VZ-bfclGxXk",
        "colab_type": "text"
      },
      "source": [
        "\n",
        "\n",
        "---\n",
        "\n"
      ]
    },
    {
      "cell_type": "markdown",
      "metadata": {
        "id": "y1hnGGn-GzL6",
        "colab_type": "text"
      },
      "source": [
        "## 14. Write a Python code to create a bar chart showing family counts based on the number of children in the family. "
      ]
    },
    {
      "cell_type": "code",
      "metadata": {
        "id": "VVkg8tWsHROr",
        "colab_type": "code",
        "outputId": "8ab0b702-3eb4-4e99-bfca-d5f48eed7663",
        "colab": {
          "base_uri": "https://localhost:8080/",
          "height": 278
        }
      },
      "source": [
        "%matplotlib inline\n",
        "\n",
        "dg = df.drop_duplicates([\"family\"],keep = \"last\") #family값이 중복된 열들을 제거(가장 위에 걸 남김) :)\n",
        "chi_fam = dg.groupby('children').family.count()\n",
        "chi = list(set(df['children'])) #values of children\n",
        "n = np.arange(len(chi))\n",
        "\n",
        "plt.bar(n,chi_fam)\n",
        "plt.xlabel('number of chirdren')\n",
        "plt.ylabel('number of family')\n",
        "plt.xticks(n,chi)\n",
        "plt.show()"
      ],
      "execution_count": 0,
      "outputs": [
        {
          "output_type": "display_data",
          "data": {
            "image/png": "[encoded data removed]",
            "text/plain": [
              "<Figure size 432x288 with 1 Axes>"
            ]
          },
          "metadata": {
            "tags": [],
            "needs_background": "light"
          }
        }
      ]
    },
    {
      "cell_type": "markdown",
      "metadata": {
        "id": "mSfw9H2iHCvB",
        "colab_type": "text"
      },
      "source": [
        "\n",
        "\n",
        "---\n",
        "\n"
      ]
    },
    {
      "cell_type": "markdown",
      "metadata": {
        "id": "Lw2_olV9HGD4",
        "colab_type": "text"
      },
      "source": [
        "##15. Write a Python code to create a histogram of the father values in the Galton dataset, which record the father's height"
      ]
    },
    {
      "cell_type": "code",
      "metadata": {
        "id": "UPomkVpAFBvl",
        "colab_type": "code",
        "outputId": "7fecc5b6-ef92-48f6-dbd9-aa0b5fa33209",
        "colab": {
          "base_uri": "https://localhost:8080/",
          "height": 296
        }
      },
      "source": [
        "%matplotlib inline\n",
        "\n",
        "plt.hist(dg['father'], bins=10)\n",
        "plt.xlabel('height of fathers')\n",
        "plt.ylabel('number of fathers')\n",
        "plt.show"
      ],
      "execution_count": 0,
      "outputs": [
        {
          "output_type": "execute_result",
          "data": {
            "text/plain": [
              "<function matplotlib.pyplot.show>"
            ]
          },
          "metadata": {
            "tags": []
          },
          "execution_count": 32
        },
        {
          "output_type": "display_data",
          "data": {
            "image/png": "[encoded data removed]",
            "text/plain": [
              "<Figure size 432x288 with 1 Axes>"
            ]
          },
          "metadata": {
            "tags": [],
            "needs_background": "light"
          }
        }
      ]
    },
    {
      "cell_type": "markdown",
      "metadata": {
        "id": "iDzhCHLJHW5G",
        "colab_type": "text"
      },
      "source": [
        "\n",
        "\n",
        "---\n",
        "\n"
      ]
    },
    {
      "cell_type": "markdown",
      "metadata": {
        "id": "9_VF6L0lHYXT",
        "colab_type": "text"
      },
      "source": [
        "##16. Write a Python code creates a scatter plot that plots the intersection points for midparentHeight on the x axis and childHeight on the y axis"
      ]
    },
    {
      "cell_type": "code",
      "metadata": {
        "id": "XJseX2XzHszf",
        "colab_type": "code",
        "outputId": "68249502-2890-4cd0-e348-71fa9ceeb515",
        "colab": {
          "base_uri": "https://localhost:8080/",
          "height": 300
        }
      },
      "source": [
        "%matplotlib inline\n",
        "\n",
        "plt.scatter(df['midparentHeight'],df['childHeight'],s = 8) #s는 점 크기\n",
        "plt.xlabel('average height of parents')\n",
        "plt.ylabel('height of children')\n",
        "plt.show"
      ],
      "execution_count": 0,
      "outputs": [
        {
          "output_type": "execute_result",
          "data": {
            "text/plain": [
              "<function matplotlib.pyplot.show>"
            ]
          },
          "metadata": {
            "tags": []
          },
          "execution_count": 33
        },
        {
          "output_type": "display_data",
          "data": {
            "image/png": "[encoded data removed]",
            "text/plain": [
              "<Figure size 432x288 with 1 Axes>"
            ]
          },
          "metadata": {
            "tags": [],
            "needs_background": "light"
          }
        }
      ]
    },
    {
      "cell_type": "markdown",
      "metadata": {
        "id": "tCBMncOYHwVY",
        "colab_type": "text"
      },
      "source": [
        "\n",
        "\n",
        "---\n",
        "\n"
      ]
    },
    {
      "cell_type": "markdown",
      "metadata": {
        "id": "hwpoqVI0Iys_",
        "colab_type": "text"
      },
      "source": [
        "# Probability\n",
        "Many of the problems we try to solve using statistics are to do with *probability*. For example, what's the probable salary for a Data Science graduate who scored a given score in their final exam at school? \n",
        "\n",
        "\n",
        "## Probability Basics\n",
        "There are some basic definitions and principles.\n",
        "- An ***experiment*** or ***trial*** is an action with an uncertain outcome, such as tossing a coin.\n",
        "- A ***sample space*** is the set of all possible outcomes of an experiment. In a coin toss, there's a set of two possible oucomes (*heads* and *tails*).\n",
        "- A ***sample point*** is a single possible outcome - for example, *heads*)\n",
        "- An ***event*** is a specific outome of single instance of an experiment - for example, tossing a coin and getting *tails*.\n",
        "- ***Probability*** is a value between 0 and 1 that indicates the likelihood of a particular event, with 0 meaning that the event is impossible, and 1 meaning that the event is inevitable. In general terms, it's calculated like this:\n",
        "\n",
        "\\begin{equation}\\text{probability of an event} = \\frac{\\text{Number of sample points that produce the event}}{\\text{Total number of sample points in the sample space}} \\end{equation}\n",
        "\n",
        "For example, the probability of getting *heads* when tossing as coin is <sup>1</sup>/<sub>2</sub> - there is only one side of the coin that is designated *heads*. and there are two possible outcomes in the sample space (*heads* and *tails*). So the probability of getting *heads* in a single coin toss is 0.5 (or 50% when expressed as a percentage).\n",
        "\n",
        "### The Complement of an Event\n",
        "The *complement* of an event is the set of *sample points* that do ***not*** result in the event.\n",
        "\n",
        "For example, suppose your local weather forecaster indicates the predominant weather for each day of the week like this:\n",
        "\n",
        "<table>\n",
        "<tr><td style='text-align:center'>Mon</td><td style='text-align:center'>Tue</td><td style='text-align:center'>Wed</td><td style='text-align:center'>Thu</td><td style='text-align:center'>Fri</td><td style='text-align:center'>Sat</td><td style='text-align:center'>Sun</td></tr>\n",
        "<tr style='font-size:32px'><td>&#9729;</td><td>&#9730;</td><td>&#9728;</td><td>&#9728;</td><td>&#9728;</td><td>&#9729;</td><td>&#9728;</td></tr>\n",
        "</table>\n",
        "\n",
        "If you would like to find the probability of \"Not Sunny days, you should find the probability of \"Sunny days\" first and the applies the following complement of event,  \n",
        "\n",
        "\\begin{equation}P(A) = 1 - P(A') \\end{equation}\n",
        ", which results in\n",
        "\\begin{equation}P(A') = 1- P(A) = 1 - (4/7) chance of it not being sunny!"
      ]
    },
    {
      "cell_type": "markdown",
      "metadata": {
        "id": "t_6TeOsZI7K6",
        "colab_type": "text"
      },
      "source": [
        "## Conditional Probability and Dependence\n",
        "Events can be:\n",
        "- *Independent* (events that are not affected by other events)\n",
        "- *Dependent* (events that are conditional on other events)\n",
        "- *Mutually Exclusive* (events that can't occur together)\n",
        "\n",
        "### Independent Events\n",
        "Imagine you toss a coin. The sample space contains two possible outomes: heads or tails. \n",
        "The probability of getting *heads* is <sup>1</sup>/<sub>2</sub>, and the probability of getting *tails* is also <sup>1</sup>/<sub>2</sub>. \n",
        "\n",
        "Run the following Python code to simulate 10,000 coin tosses by assigning a random value of 0 or 1 to *heads* and *tails*. Each time the coin is tossed, the probability of getting *heads* or *tails* is 50%, so you should expect approximately half of the results to be *heads* and half to be *tails* (it won't be exactly half, due to a little random variation; but it should be close):"
      ]
    },
    {
      "cell_type": "code",
      "metadata": {
        "id": "Pkla8oSgLD2k",
        "colab_type": "code",
        "outputId": "1ff5261b-58b4-4253-df0c-582fe3d5dfff",
        "colab": {
          "base_uri": "https://localhost:8080/",
          "height": 320
        }
      },
      "source": [
        "%matplotlib inline\n",
        "import random\n",
        "\n",
        "# Create a list with 2 element (for heads and tails)\n",
        "heads_tails = [0,0]\n",
        "\n",
        "# loop through 10000 trials\n",
        "trials = 10000\n",
        "trial = 0\n",
        "while trial < trials:\n",
        "    trial = trial + 1\n",
        "    # Get a random 0 or 1\n",
        "    toss = random.randint(0,1)\n",
        "    # Increment the list element corresponding to the toss result\n",
        "    heads_tails[toss] = heads_tails[toss] + 1\n",
        "\n",
        "print (heads_tails)\n",
        "\n",
        "# Show a pie chart of the results\n",
        "from matplotlib import pyplot as plt\n",
        "plt.figure(figsize=(5,5))\n",
        "plt.pie(heads_tails, labels=['heads', 'tails'])\n",
        "plt.legend()\n",
        "plt.show()"
      ],
      "execution_count": 0,
      "outputs": [
        {
          "output_type": "stream",
          "text": [
            "[5058, 4942]\n"
          ],
          "name": "stdout"
        },
        {
          "output_type": "display_data",
          "data": {
            "image/png": "[encoded data removed]",
            "text/plain": [
              "<Figure size 360x360 with 1 Axes>"
            ]
          },
          "metadata": {
            "tags": []
          }
        }
      ]
    },
    {
      "cell_type": "markdown",
      "metadata": {
        "id": "KN9ZMjMJLdsO",
        "colab_type": "text"
      },
      "source": [
        "Now, imagine that you need to create a new game that mixes the excitment of coin-tossing with the thrill of die-rolling! The objective of the game is to roll a die and get 6, and toss a coin and get heads. On each turn of the game, a player rolls the die and tosses the coin, in sequence (in a row). \n",
        "\n",
        "###How can we calculate the probability of winning?\n",
        "\n",
        "There are two independent events required to win: a die-roll of *6* (which we'll call event **A**), and a coin-toss of *heads* (which we'll call event **B**)\n",
        "\n",
        "Our formula for combined independent events is:\n",
        "\n",
        "\\begin{equation}P(A \\cap B) = P(A) \\times P(B) \\end{equation}\n",
        "\n",
        "The probablilty of rolling a *6* on a fair die is <sup>1</sup>/<sub>6</sub> or 0.167;  and the probability of tossing a coin and getting *heads* is <sup>1</sup>/<sub>2</sub> or 0.5:\n",
        "\n",
        "\\begin{equation}P(A \\cap B) = 0.167 \\times 0.5 = 0.083 \\end{equation}\n",
        "\n",
        "So on each turn, there's an 8.3% chance to win the game."
      ]
    },
    {
      "cell_type": "markdown",
      "metadata": {
        "id": "45rRFyh7MJbs",
        "colab_type": "text"
      },
      "source": [
        "#17. Write a Python code that calculates when you know you get 6 from your first rolling-dice, how much you would increase your winning probability from 0.083"
      ]
    },
    {
      "cell_type": "code",
      "metadata": {
        "id": "6VU3R92gLFwY",
        "colab_type": "code",
        "outputId": "95c3058c-be06-4ad3-eb8d-1742ad882c32",
        "colab": {
          "base_uri": "https://localhost:8080/",
          "height": 87
        }
      },
      "source": [
        "trial = 100000\n",
        "count = 0\n",
        "for i in range(trial):\n",
        "  coin = random.randint(0,1)\n",
        "  dice = random.randint(1,6)\n",
        "  #dice = 6\n",
        "  if coin == 1 and dice == 6:\n",
        "    count += 1\n",
        "P1 = count/trial\n",
        "print(\"P(A∩B):\",P1)\n",
        "\n",
        "count = 0\n",
        "for i in range(trial):\n",
        "  coin = random.randint(0,1)\n",
        "  dice = random.randint(1,6)\n",
        "  dice = 6\n",
        "  if coin == 1 and dice == 6:\n",
        "    count += 1\n",
        "P2 = count/trial\n",
        "print(\"P(B):\",P2)\n",
        "\n",
        "print(\"=\"*50)\n",
        "print(\"increased winning probability\",P2-P1)"
      ],
      "execution_count": 0,
      "outputs": [
        {
          "output_type": "stream",
          "text": [
            "P(A∩B): 0.08285\n",
            "P(B): 0.50034\n",
            "==================================================\n",
            "increased winning probability 0.41749\n"
          ],
          "name": "stdout"
        }
      ]
    },
    {
      "cell_type": "markdown",
      "metadata": {
        "id": "KTwdbWWPNhv7",
        "colab_type": "text"
      },
      "source": [
        "\n",
        "\n",
        "---\n",
        "\n"
      ]
    },
    {
      "cell_type": "markdown",
      "metadata": {
        "id": "uON9ba27NjOK",
        "colab_type": "text"
      },
      "source": [
        "As the final question, the following table contains the different age group peoples who have defaulted and not defaulted on Loans: \n",
        "![Table1](https://miro.medium.com/max/1400/0*L4XpVZ-5jaHBrl3p.png)\n",
        "\n",
        "#18-1. Write a Python code to calculate the probability that a person will not default on the loan given s/he is middle aged? \n",
        "\n",
        "#18-2. Write a Python code to calculate the probability that a person is middle-aged given s/he has not defaulted on the loan? "
      ]
    },
    {
      "cell_type": "code",
      "metadata": {
        "id": "9hg2puDU1A9S",
        "colab_type": "code",
        "outputId": "092e46ea-8494-43e9-9494-61832b93a53c",
        "colab": {
          "base_uri": "https://localhost:8080/",
          "height": 125
        }
      },
      "source": [
        "from google.colab import drive\n",
        "drive.mount('/content/gdrive/')"
      ],
      "execution_count": 0,
      "outputs": [
        {
          "output_type": "stream",
          "text": [
            "Go to this URL in a browser: https://accounts.google.com/o/oauth2/auth?client_id=947318989803-6bn6qk8qdgf4n4g3pfee6491hc0brc4i.apps.googleusercontent.com&redirect_uri=urn%3aietf%3awg%3aoauth%3a2.0%3aoob&response_type=code&scope=email%20https%3a%2f%2fwww.googleapis.com%2fauth%2fdocs.test%20https%3a%2f%2fwww.googleapis.com%2fauth%2fdrive%20https%3a%2f%2fwww.googleapis.com%2fauth%2fdrive.photos.readonly%20https%3a%2f%2fwww.googleapis.com%2fauth%2fpeopleapi.readonly\n",
            "\n",
            "Enter your authorization code:\n",
            "··········\n",
            "Mounted at /content/gdrive/\n"
          ],
          "name": "stdout"
        }
      ]
    },
    {
      "cell_type": "code",
      "metadata": {
        "id": "4dkMmv2tNgVy",
        "colab_type": "code",
        "outputId": "9bee4c0b-2c7e-4e5f-ffa0-7fcab362e13e",
        "colab": {
          "base_uri": "https://localhost:8080/",
          "height": 52
        }
      },
      "source": [
        "from openpyxl import load_workbook\n",
        "\n",
        "df = load_workbook(\"/content/gdrive/My Drive/loans.xlsx\", data_only=True)\n",
        "dg = df['Sheet1']\n",
        "print(dg['C2'].value/dg['C4'].value)\n",
        "val = 27368/32219\n",
        "print(val)"
      ],
      "execution_count": 0,
      "outputs": [
        {
          "output_type": "stream",
          "text": [
            "0.8494366678047115\n",
            "0.8494366678047115\n"
          ],
          "name": "stdout"
        }
      ]
    },
    {
      "cell_type": "code",
      "metadata": {
        "id": "fYl0jUqIOY3D",
        "colab_type": "code",
        "outputId": "c4df3c69-edb7-45cb-dac6-897936196aa5",
        "colab": {
          "base_uri": "https://localhost:8080/",
          "height": 35
        }
      },
      "source": [
        "print(dg['C2'].value/dg['E2'].value)"
      ],
      "execution_count": 0,
      "outputs": [
        {
          "output_type": "stream",
          "text": [
            "0.7177550485182271\n"
          ],
          "name": "stdout"
        }
      ]
    }
  ]
}